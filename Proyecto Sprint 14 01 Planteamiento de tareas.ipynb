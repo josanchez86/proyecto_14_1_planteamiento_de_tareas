{
 "cells": [
  {
   "cell_type": "markdown",
   "metadata": {},
   "source": [
    "## Introducción:"
   ]
  },
  {
   "cell_type": "markdown",
   "metadata": {},
   "source": [
    "# Proyecto Final: Telecomunicaciones: identificar operadores ineficaces\n",
    "\n",
    "### Ejercicio\n",
    "\n",
    "#### El servicio de telefonía virtual CallMeMaybe está desarrollando una nueva función que brindará a los supervisores y las supervisores información sobre los operadores menos eficaces. Se considera que un operador es ineficaz si tiene una gran cantidad de llamadas entrantes perdidas (internas y externas) y un tiempo de espera prolongado para las llamadas entrantes. Además, si se supone que un operador debe realizar llamadas salientes, un número reducido de ellas también será un signo de ineficacia.\n",
    "\n",
    "- Lleva a cabo el análisis exploratorio de datos\n",
    "- Identificar operadores ineficaces\n",
    "- Prueba las hipótesis estadísticas\n",
    "\n",
    "### Descripción de los datos\n",
    "\n",
    "Los datasets contienen información sobre el uso del servicio de telefonía virtual CallMeMaybe. Sus clientes son organizaciones que necesitan distribuir gran cantidad de llamadas entrantes entre varios operadores, o realizar llamadas salientes a través de sus operadores. Los operadores también pueden realizar llamadas internas para comunicarse entre ellos. Estas llamadas se realizan a través de la red de CallMeMaybe.\n",
    "\n",
    "El dataset comprimido `telecom_dataset_us.csv` contiene las siguientes columnas:\n",
    "\n",
    "- `user_id`: ID de la cuenta de cliente\n",
    "- `date`: fecha en la que se recuperaron las estadísticas\n",
    "- `direction`: \"dirección\" de llamada (`out` para saliente, `in` para entrante)\n",
    "- `internal`: si la llamada fue interna (entre los operadores de un cliente o clienta)\n",
    "- `operator_id`: identificador del operador\n",
    "- `is_missed_call`: si fue una llamada perdida\n",
    "- `calls_count`: número de llamadas\n",
    "- `call_duration`: duración de la llamada (sin incluir el tiempo de espera)\n",
    "- `total_call_duration`: duración de la llamada (incluido el tiempo de espera)\n",
    "\n",
    " \n",
    "\n",
    "El conjunto de datos `telecom_clients_us.csv` tiene las siguientes columnas:\n",
    "\n",
    "- `user_id`: ID de usuario/a\n",
    "- `tariff_plan`: tarifa actual de la clientela\n",
    "- `date_start`: fecha de registro de la clientela\n",
    "\n",
    "Haz una lista de 5 a 10 fuentes (documentación, artículos, etc) que usaste mientras trabajabas en el proyecto. Brinda explicaciones breves sobre las preguntas que cada fuente te ayudó a responder. Prepara una presentación con tus conclusiones. Puedes usar cualquier herramienta que quieras para hacer la presentación, pero debes enviarla en PDF. Coloca el enlace en el cuerpo del proyecto principal.\n",
    "\n",
    "### Dashboards\n",
    "\n",
    "1. Sugerencia 1\n",
    "    1. Traza un histograma para la duración de la llamada\n",
    "    2. Traza un gráfico circular que muestre la participación de las llamadas internas y externas\n",
    "    3. Agrega un filtro para la \"dirección\" de llamadas\n",
    "2. Sugerencia 2\n",
    "    1. Traza un histograma que muestre el número de llamadas por día\n",
    "    2. Traza un gráfico circular que muestre la participación de las llamadas internas y externas\n",
    "    3. Agrega un filtro por tipo de llamada (interna o externa)"
   ]
  },
  {
   "cell_type": "markdown",
   "metadata": {},
   "source": [
    "## Pasos a seguir para la ejecución del proyecto:"
   ]
  },
  {
   "cell_type": "markdown",
   "metadata": {},
   "source": [
    "### Se importan las librerías que tal vez se pueden usar a lo largo del proyecto."
   ]
  },
  {
   "cell_type": "markdown",
   "metadata": {},
   "source": [
    "* Importar la librería de pandas ya que permite leer documentos en formato csv y manejar de forma rápida y sencilla grandes volumenes de datos, permite la agregación y agrupación de datos, además de permitir una fácil visualización de la información.\n",
    "\n",
    "* Importar la librería de numpy que, entre otras cosas, permite realizar diferentes cálculos así como la manipulación y procesamiento de arrays.\n",
    "\n",
    "* Importar la librería math que permite realizar diferentes cálculos matemáticos.\n",
    "\n",
    "* Importar librerías estadísticas que entre otras cosas, permiten realizar pruebas estadístcias.\n",
    "\n",
    "* Importar matplotlib y seaborn que permitirían realizar gráficas para una adecuada observación del comportamiento de los datos.\n",
    "\n",
    "* Importar modelos de aprendizaje para los posibles pronósticos de datos así como las métricas que permiten evaluar el rendimiento de los modelos de aprendizaje."
   ]
  },
  {
   "cell_type": "markdown",
   "metadata": {},
   "source": [
    "## Emplear Python con el fin de cargar, procesar y analizar los datos:\n",
    "\n",
    "### Se realiza la carga de los datos:\n",
    "\n",
    "Empleando la función **pd.read_csv()** se cargarán los datos de los archivos **telecom_dataset_us.csv** y **telecom_clients_us.csv** a las variables **\"data\"** y **\"clients\"** respectivamente.\n",
    "\n",
    "### Se realiza el análisis exploratorio de los datos (EDA):\n",
    "\n",
    "Con el fin de tener el tipo de dato correcto para cada columna, manejar con mayor facilidad la identificación de las columnas para un adecuado manejo de lso datos e identificar los valores ausentes o duplicados, se ralizará el correspondiente análisis exploratorio de los datos.\n",
    "\n",
    "#### Se verifica cual es el separador del archivo (en caso de no ser comas, se cambia al separador correcto).\n",
    "\n",
    "#### Aplicar al método **info** a ambos dataframe para observar la cantidad de filas, los nombres de las columnas, el tipo de datos de las columnas, determinar si existen valores ausentes en las columnas y comprobar que no existen mayúsculas ni espacios vacios en los nombres de las columnas.\n",
    "\n",
    "#### Se corrige el tipo de datos de las columnas que lo requieran (esto en el caso de que hayan columnas que no tengan el tipo de datos correcto).\n",
    "\n",
    "#### Se verifica si existen filas duplicadas en los dataframe y de ser así, se eliminan.\n",
    "\n",
    "#### Dado que el objetivo es determinar a los trabajadores ineficaces, se eliminarán aquellas filas que carecen del 'operator_id' (en el caso de que existan valores ausentes en esta columna).\n",
    "\n",
    "#### Identificar operadores ineficaces:\n",
    "\n",
    "##### Se calcula el tiempo de espera (ya que éste valor no aparece en el dataframe y se requiere para poder identificar a trabajadores inficaces).\n",
    "\n",
    "##### Establecer un valor máximo de llamadas entrantes perdidas para considerar a un trabajador como eficaz, para esto se usará el tercer cuartil para ser objetivo calculando un límite aceptable para tal valor.\n",
    "\n",
    "##### Establecer un valor máximo para el tiempo de espera de las llamadas entrantes para considerar a un trabajador como eficaz, para lo cual se usará el tercer cuartil para ser objetivo encontrando un límite aceptable para éste valor..\n",
    "\n",
    "##### Establecer un valor mínimo para la cantidad de llamadas salientes para considerar a un trabajador como eficazm para esto de usará el primer cuartil para ser objetivo hallando un valor mínimo referencial aceptable para dicha variable.\n",
    "\n",
    "##### Teniendo definidos los límites admisibles para cada variable, se obtiene un resumen de la información que contenga una columna con el 'operator_id', la cantidad de llamadas entrantes perdidas, el tiempo promedio de espera de las llamadas entrantes y la cantidad de llamadas salientes y una columna en la que se indica si el trabajador es Ineficaz (esta será una columna del tipo lógica).\n",
    "\n",
    "##### Realizar pruebas estádisticas para comparar las varianzas y las medias (trabajadores eficientes y no eficientes), para éste paso será necesario realizar una revisión de datos atípicos.\n",
    "\n",
    "#### Mostrar conclusiones del análisis de los datos.\n",
    "\n",
    "## Emplear Tableau Public para mostrar el comportamiento de características de forma gráfica:\n",
    "\n",
    "### Realizar histograma de frecuencia para observar la distribución de la duración de las llamadas:\n",
    "\n",
    "### Realizar un gráfico circular para observar la proporción de llamadas internas y externas.\n",
    "Ambos gráficos tendrán el filtro de la dirección de la llamada.\n",
    "\n",
    "### Realizar una presentación en Microsoft Power Point en la cual se incluyan preguntas que se pueden responder con las gráficas, así como una imagen del Dashboard y el link para acceder al mismo.\n",
    "\n",
    "### Realizar una copia en pdf de la presentación hecha en Microsoft Power Point.\n",
    "\n",
    "### Enviar una carpeta comprimida zip con el archivo en pdf, el archivo de Microsoft Power Point y los documentos cons los datos originales en formato csv."
   ]
  },
  {
   "cell_type": "markdown",
   "metadata": {},
   "source": [
    "## Referencias documenales:"
   ]
  },
  {
   "cell_type": "markdown",
   "metadata": {},
   "source": [
    "https://lovtechnology.com/que-es-pandas-libreria-de-python-como-funciona-y-para-que-sirve/\n",
    "    \n",
    "https://numpy.org/doc/stable/\n",
    "\n",
    "https://docs.scipy.org/doc/scipy/reference/stats.html\n",
    "\n",
    "https://datascientest.com/es/todo-sobre-matplotlib\n",
    "\n",
    "https://datascientest.com/es/seaborn-la-herramienta-de-data-visualization-python\n",
    "\n",
    "https://scikit-learn.org/stable/index.html"
   ]
  }
 ],
 "metadata": {
  "ExecuteTimeLog": [
   {
    "duration": 2860,
    "start_time": "2025-04-25T01:30:13.003Z"
   },
   {
    "duration": 64,
    "start_time": "2025-04-25T01:33:11.293Z"
   },
   {
    "duration": 15,
    "start_time": "2025-04-25T01:33:17.102Z"
   },
   {
    "duration": 9,
    "start_time": "2025-04-25T01:33:28.751Z"
   },
   {
    "duration": 6,
    "start_time": "2025-04-25T01:33:40.321Z"
   },
   {
    "duration": 14,
    "start_time": "2025-04-25T01:34:08.077Z"
   },
   {
    "duration": 8,
    "start_time": "2025-04-25T01:34:36.369Z"
   },
   {
    "duration": 4,
    "start_time": "2025-04-25T03:08:21.719Z"
   },
   {
    "duration": 10,
    "start_time": "2025-04-25T03:10:30.842Z"
   },
   {
    "duration": 142,
    "start_time": "2025-04-25T03:29:33.842Z"
   },
   {
    "duration": 24,
    "start_time": "2025-04-25T03:29:38.716Z"
   },
   {
    "duration": 16,
    "start_time": "2025-04-25T03:31:49.194Z"
   },
   {
    "duration": 15,
    "start_time": "2025-04-25T03:32:32.363Z"
   },
   {
    "duration": 15,
    "start_time": "2025-04-25T03:41:00.685Z"
   },
   {
    "duration": 14,
    "start_time": "2025-04-25T03:41:15.052Z"
   },
   {
    "duration": 13,
    "start_time": "2025-04-25T03:42:05.459Z"
   },
   {
    "duration": 27,
    "start_time": "2025-04-25T03:42:21.172Z"
   },
   {
    "duration": 1048,
    "start_time": "2025-04-25T04:09:12.604Z"
   },
   {
    "duration": 41,
    "start_time": "2025-04-25T04:09:13.654Z"
   },
   {
    "duration": 40,
    "start_time": "2025-04-25T04:09:13.697Z"
   },
   {
    "duration": 14,
    "start_time": "2025-04-25T04:09:13.740Z"
   },
   {
    "duration": 4,
    "start_time": "2025-04-25T04:09:13.755Z"
   },
   {
    "duration": 10,
    "start_time": "2025-04-25T04:09:13.761Z"
   },
   {
    "duration": 16,
    "start_time": "2025-04-25T04:09:13.772Z"
   },
   {
    "duration": 48,
    "start_time": "2025-04-25T04:09:13.789Z"
   },
   {
    "duration": 8,
    "start_time": "2025-04-25T04:09:13.839Z"
   },
   {
    "duration": 62,
    "start_time": "2025-04-25T04:11:23.367Z"
   },
   {
    "duration": 10,
    "start_time": "2025-04-25T04:13:32.568Z"
   },
   {
    "duration": 13,
    "start_time": "2025-04-25T04:14:15.832Z"
   },
   {
    "duration": 4,
    "start_time": "2025-04-25T04:15:20.150Z"
   },
   {
    "duration": 11,
    "start_time": "2025-04-25T04:16:11.867Z"
   },
   {
    "duration": 38,
    "start_time": "2025-04-25T04:17:07.395Z"
   },
   {
    "duration": 24,
    "start_time": "2025-04-25T04:18:05.030Z"
   },
   {
    "duration": 8,
    "start_time": "2025-04-25T04:18:57.457Z"
   },
   {
    "duration": 9,
    "start_time": "2025-04-25T04:19:05.055Z"
   },
   {
    "duration": 33,
    "start_time": "2025-04-25T04:19:22.196Z"
   },
   {
    "duration": 12,
    "start_time": "2025-04-25T04:20:14.747Z"
   },
   {
    "duration": 13,
    "start_time": "2025-04-25T04:21:45.250Z"
   },
   {
    "duration": 4,
    "start_time": "2025-04-25T04:22:42.943Z"
   },
   {
    "duration": 11,
    "start_time": "2025-04-25T04:23:49.904Z"
   },
   {
    "duration": 10,
    "start_time": "2025-04-25T04:24:45.314Z"
   },
   {
    "duration": 9,
    "start_time": "2025-04-25T04:28:08.425Z"
   },
   {
    "duration": 1065,
    "start_time": "2025-04-25T04:52:08.276Z"
   },
   {
    "duration": 41,
    "start_time": "2025-04-25T04:52:09.344Z"
   },
   {
    "duration": 11,
    "start_time": "2025-04-25T04:52:09.387Z"
   },
   {
    "duration": 32,
    "start_time": "2025-04-25T04:52:09.401Z"
   },
   {
    "duration": 4,
    "start_time": "2025-04-25T04:52:09.435Z"
   },
   {
    "duration": 10,
    "start_time": "2025-04-25T04:52:09.441Z"
   },
   {
    "duration": 16,
    "start_time": "2025-04-25T04:52:09.452Z"
   },
   {
    "duration": 63,
    "start_time": "2025-04-25T04:52:09.470Z"
   },
   {
    "duration": 7,
    "start_time": "2025-04-25T04:52:09.535Z"
   },
   {
    "duration": 8,
    "start_time": "2025-04-25T04:52:09.545Z"
   },
   {
    "duration": 5,
    "start_time": "2025-04-25T04:52:09.555Z"
   },
   {
    "duration": 5,
    "start_time": "2025-04-25T04:52:09.562Z"
   },
   {
    "duration": 5,
    "start_time": "2025-04-25T04:52:09.569Z"
   },
   {
    "duration": 19,
    "start_time": "2025-04-25T05:01:44.221Z"
   },
   {
    "duration": 865,
    "start_time": "2025-04-25T05:05:50.417Z"
   },
   {
    "duration": 49,
    "start_time": "2025-04-25T05:25:09.800Z"
   },
   {
    "duration": 17,
    "start_time": "2025-04-25T05:25:30.421Z"
   },
   {
    "duration": 15,
    "start_time": "2025-04-25T05:25:54.021Z"
   },
   {
    "duration": 29,
    "start_time": "2025-04-25T05:26:13.025Z"
   },
   {
    "duration": 8,
    "start_time": "2025-04-25T05:26:15.888Z"
   },
   {
    "duration": 34,
    "start_time": "2025-04-25T05:26:46.397Z"
   },
   {
    "duration": 9,
    "start_time": "2025-04-25T05:26:50.064Z"
   },
   {
    "duration": 11,
    "start_time": "2025-04-25T05:27:50.021Z"
   },
   {
    "duration": 10,
    "start_time": "2025-04-25T05:27:57.384Z"
   },
   {
    "duration": 63,
    "start_time": "2025-04-25T05:29:14.000Z"
   },
   {
    "duration": 47,
    "start_time": "2025-04-25T05:29:22.539Z"
   },
   {
    "duration": 55,
    "start_time": "2025-04-25T05:29:33.711Z"
   },
   {
    "duration": 14,
    "start_time": "2025-04-25T05:29:43.429Z"
   },
   {
    "duration": 42,
    "start_time": "2025-04-25T05:31:12.878Z"
   },
   {
    "duration": 9,
    "start_time": "2025-04-25T05:31:16.237Z"
   },
   {
    "duration": 43,
    "start_time": "2025-04-25T05:31:48.703Z"
   },
   {
    "duration": 10,
    "start_time": "2025-04-25T05:31:50.884Z"
   },
   {
    "duration": 37,
    "start_time": "2025-04-25T05:32:47.700Z"
   },
   {
    "duration": 15,
    "start_time": "2025-04-25T05:38:56.849Z"
   },
   {
    "duration": 27,
    "start_time": "2025-04-25T05:39:05.489Z"
   },
   {
    "duration": 25,
    "start_time": "2025-04-25T05:39:21.616Z"
   },
   {
    "duration": 8,
    "start_time": "2025-04-25T05:44:51.270Z"
   },
   {
    "duration": 992,
    "start_time": "2025-04-25T05:54:04.904Z"
   },
   {
    "duration": 52,
    "start_time": "2025-04-25T05:54:05.898Z"
   },
   {
    "duration": 12,
    "start_time": "2025-04-25T05:54:05.951Z"
   },
   {
    "duration": 13,
    "start_time": "2025-04-25T05:54:05.966Z"
   },
   {
    "duration": 3,
    "start_time": "2025-04-25T05:54:05.981Z"
   },
   {
    "duration": 11,
    "start_time": "2025-04-25T05:54:06.005Z"
   },
   {
    "duration": 28,
    "start_time": "2025-04-25T05:54:06.018Z"
   },
   {
    "duration": 25,
    "start_time": "2025-04-25T05:54:06.048Z"
   },
   {
    "duration": 6,
    "start_time": "2025-04-25T05:54:06.075Z"
   },
   {
    "duration": 48,
    "start_time": "2025-04-25T05:54:06.084Z"
   },
   {
    "duration": 5,
    "start_time": "2025-04-25T05:54:06.134Z"
   },
   {
    "duration": 6,
    "start_time": "2025-04-25T05:54:06.141Z"
   },
   {
    "duration": 5,
    "start_time": "2025-04-25T05:54:06.149Z"
   },
   {
    "duration": 10,
    "start_time": "2025-04-25T05:54:06.156Z"
   },
   {
    "duration": 57,
    "start_time": "2025-04-25T05:54:06.167Z"
   },
   {
    "duration": 11,
    "start_time": "2025-04-25T05:54:06.234Z"
   },
   {
    "duration": 16,
    "start_time": "2025-04-25T05:54:06.247Z"
   },
   {
    "duration": 6,
    "start_time": "2025-04-25T05:54:06.265Z"
   },
   {
    "duration": 11,
    "start_time": "2025-04-25T05:54:06.273Z"
   },
   {
    "duration": 13,
    "start_time": "2025-04-25T05:54:36.389Z"
   },
   {
    "duration": 8,
    "start_time": "2025-04-25T05:55:55.782Z"
   },
   {
    "duration": 15,
    "start_time": "2025-04-25T06:00:08.125Z"
   },
   {
    "duration": 6,
    "start_time": "2025-04-25T06:06:44.389Z"
   },
   {
    "duration": 8,
    "start_time": "2025-04-25T06:06:59.071Z"
   },
   {
    "duration": 1002,
    "start_time": "2025-04-25T06:07:25.158Z"
   },
   {
    "duration": 43,
    "start_time": "2025-04-25T06:07:26.162Z"
   },
   {
    "duration": 11,
    "start_time": "2025-04-25T06:07:26.206Z"
   },
   {
    "duration": 13,
    "start_time": "2025-04-25T06:07:26.220Z"
   },
   {
    "duration": 4,
    "start_time": "2025-04-25T06:07:26.235Z"
   },
   {
    "duration": 10,
    "start_time": "2025-04-25T06:07:26.240Z"
   },
   {
    "duration": 16,
    "start_time": "2025-04-25T06:07:26.252Z"
   },
   {
    "duration": 24,
    "start_time": "2025-04-25T06:07:26.305Z"
   },
   {
    "duration": 7,
    "start_time": "2025-04-25T06:07:26.331Z"
   },
   {
    "duration": 8,
    "start_time": "2025-04-25T06:07:26.341Z"
   },
   {
    "duration": 5,
    "start_time": "2025-04-25T06:07:26.350Z"
   },
   {
    "duration": 5,
    "start_time": "2025-04-25T06:07:26.356Z"
   },
   {
    "duration": 44,
    "start_time": "2025-04-25T06:07:26.363Z"
   },
   {
    "duration": 9,
    "start_time": "2025-04-25T06:07:26.409Z"
   },
   {
    "duration": 26,
    "start_time": "2025-04-25T06:07:26.419Z"
   },
   {
    "duration": 12,
    "start_time": "2025-04-25T06:07:26.446Z"
   },
   {
    "duration": 18,
    "start_time": "2025-04-25T06:07:26.459Z"
   },
   {
    "duration": 33,
    "start_time": "2025-04-25T06:07:26.478Z"
   },
   {
    "duration": 8,
    "start_time": "2025-04-25T06:07:26.512Z"
   },
   {
    "duration": 6,
    "start_time": "2025-04-25T06:12:15.500Z"
   },
   {
    "duration": 986,
    "start_time": "2025-04-25T06:12:29.794Z"
   },
   {
    "duration": 45,
    "start_time": "2025-04-25T06:12:30.782Z"
   },
   {
    "duration": 12,
    "start_time": "2025-04-25T06:12:30.829Z"
   },
   {
    "duration": 13,
    "start_time": "2025-04-25T06:12:30.844Z"
   },
   {
    "duration": 6,
    "start_time": "2025-04-25T06:12:30.859Z"
   },
   {
    "duration": 10,
    "start_time": "2025-04-25T06:12:30.867Z"
   },
   {
    "duration": 15,
    "start_time": "2025-04-25T06:12:30.906Z"
   },
   {
    "duration": 22,
    "start_time": "2025-04-25T06:12:30.923Z"
   },
   {
    "duration": 6,
    "start_time": "2025-04-25T06:12:30.947Z"
   },
   {
    "duration": 7,
    "start_time": "2025-04-25T06:12:30.956Z"
   },
   {
    "duration": 5,
    "start_time": "2025-04-25T06:12:30.965Z"
   },
   {
    "duration": 38,
    "start_time": "2025-04-25T06:12:30.972Z"
   },
   {
    "duration": 6,
    "start_time": "2025-04-25T06:12:31.012Z"
   },
   {
    "duration": 11,
    "start_time": "2025-04-25T06:12:31.019Z"
   },
   {
    "duration": 27,
    "start_time": "2025-04-25T06:12:31.032Z"
   },
   {
    "duration": 11,
    "start_time": "2025-04-25T06:12:31.061Z"
   },
   {
    "duration": 21,
    "start_time": "2025-04-25T06:12:31.106Z"
   },
   {
    "duration": 7,
    "start_time": "2025-04-25T06:12:31.129Z"
   },
   {
    "duration": 9,
    "start_time": "2025-04-25T06:12:31.137Z"
   },
   {
    "duration": 7,
    "start_time": "2025-04-25T06:13:43.830Z"
   },
   {
    "duration": 9,
    "start_time": "2025-04-25T06:13:52.191Z"
   },
   {
    "duration": 199,
    "start_time": "2025-04-29T20:43:21.851Z"
   },
   {
    "duration": 3272,
    "start_time": "2025-04-29T20:44:25.670Z"
   },
   {
    "duration": 83,
    "start_time": "2025-04-29T20:44:28.945Z"
   },
   {
    "duration": 34,
    "start_time": "2025-04-29T20:44:29.030Z"
   },
   {
    "duration": 14,
    "start_time": "2025-04-29T20:44:29.067Z"
   },
   {
    "duration": 5,
    "start_time": "2025-04-29T20:44:29.083Z"
   },
   {
    "duration": 11,
    "start_time": "2025-04-29T20:44:29.090Z"
   },
   {
    "duration": 18,
    "start_time": "2025-04-29T20:44:29.102Z"
   },
   {
    "duration": 43,
    "start_time": "2025-04-29T20:44:29.135Z"
   },
   {
    "duration": 9,
    "start_time": "2025-04-29T20:44:29.180Z"
   },
   {
    "duration": 9,
    "start_time": "2025-04-29T20:44:29.192Z"
   },
   {
    "duration": 4,
    "start_time": "2025-04-29T20:44:29.203Z"
   },
   {
    "duration": 33,
    "start_time": "2025-04-29T20:44:29.209Z"
   },
   {
    "duration": 8,
    "start_time": "2025-04-29T20:44:29.254Z"
   },
   {
    "duration": 9,
    "start_time": "2025-04-29T20:44:29.264Z"
   },
   {
    "duration": 27,
    "start_time": "2025-04-29T20:44:29.274Z"
   },
   {
    "duration": 13,
    "start_time": "2025-04-29T20:44:29.303Z"
   },
   {
    "duration": 36,
    "start_time": "2025-04-29T20:44:29.318Z"
   },
   {
    "duration": 11,
    "start_time": "2025-04-29T20:44:29.356Z"
   },
   {
    "duration": 9,
    "start_time": "2025-04-29T20:44:29.368Z"
   },
   {
    "duration": 17,
    "start_time": "2025-04-29T20:44:29.379Z"
   },
   {
    "duration": 14,
    "start_time": "2025-04-29T20:45:05.705Z"
   },
   {
    "duration": 14,
    "start_time": "2025-04-29T20:45:17.668Z"
   },
   {
    "duration": 13,
    "start_time": "2025-04-29T20:45:45.684Z"
   },
   {
    "duration": 12,
    "start_time": "2025-04-29T21:07:23.162Z"
   },
   {
    "duration": 8,
    "start_time": "2025-04-29T21:09:08.160Z"
   },
   {
    "duration": 212,
    "start_time": "2025-04-29T21:22:08.701Z"
   },
   {
    "duration": 123,
    "start_time": "2025-04-29T21:22:41.379Z"
   },
   {
    "duration": 147,
    "start_time": "2025-04-29T21:22:52.814Z"
   },
   {
    "duration": 10,
    "start_time": "2025-04-29T21:25:08.000Z"
   },
   {
    "duration": 12,
    "start_time": "2025-04-29T21:25:35.591Z"
   },
   {
    "duration": 31,
    "start_time": "2025-04-29T21:26:49.224Z"
   },
   {
    "duration": 192,
    "start_time": "2025-04-29T21:33:21.357Z"
   },
   {
    "duration": 291,
    "start_time": "2025-04-29T21:33:33.335Z"
   },
   {
    "duration": 25,
    "start_time": "2025-04-29T21:34:37.388Z"
   },
   {
    "duration": 181,
    "start_time": "2025-04-30T06:49:56.023Z"
   },
   {
    "duration": 1059,
    "start_time": "2025-04-30T06:50:17.982Z"
   },
   {
    "duration": 73,
    "start_time": "2025-04-30T06:50:19.043Z"
   },
   {
    "duration": 11,
    "start_time": "2025-04-30T06:50:19.118Z"
   },
   {
    "duration": 14,
    "start_time": "2025-04-30T06:50:19.132Z"
   },
   {
    "duration": 4,
    "start_time": "2025-04-30T06:50:19.147Z"
   },
   {
    "duration": 10,
    "start_time": "2025-04-30T06:50:19.154Z"
   },
   {
    "duration": 15,
    "start_time": "2025-04-30T06:50:19.166Z"
   },
   {
    "duration": 28,
    "start_time": "2025-04-30T06:50:19.210Z"
   },
   {
    "duration": 6,
    "start_time": "2025-04-30T06:50:19.240Z"
   },
   {
    "duration": 8,
    "start_time": "2025-04-30T06:50:19.248Z"
   },
   {
    "duration": 5,
    "start_time": "2025-04-30T06:50:19.258Z"
   },
   {
    "duration": 5,
    "start_time": "2025-04-30T06:50:19.265Z"
   },
   {
    "duration": 6,
    "start_time": "2025-04-30T06:50:19.309Z"
   },
   {
    "duration": 9,
    "start_time": "2025-04-30T06:50:19.319Z"
   },
   {
    "duration": 27,
    "start_time": "2025-04-30T06:50:19.538Z"
   },
   {
    "duration": 11,
    "start_time": "2025-04-30T06:50:19.569Z"
   },
   {
    "duration": 23,
    "start_time": "2025-04-30T06:50:19.862Z"
   },
   {
    "duration": 9,
    "start_time": "2025-04-30T06:50:19.887Z"
   },
   {
    "duration": 10,
    "start_time": "2025-04-30T06:50:19.898Z"
   },
   {
    "duration": 14,
    "start_time": "2025-04-30T06:50:19.910Z"
   },
   {
    "duration": 11,
    "start_time": "2025-04-30T06:50:19.926Z"
   },
   {
    "duration": 11,
    "start_time": "2025-04-30T06:50:20.135Z"
   },
   {
    "duration": 5,
    "start_time": "2025-04-30T06:50:20.148Z"
   },
   {
    "duration": 23,
    "start_time": "2025-04-30T06:50:20.155Z"
   },
   {
    "duration": 194,
    "start_time": "2025-04-30T06:50:20.180Z"
   },
   {
    "duration": 8,
    "start_time": "2025-04-30T07:00:36.244Z"
   },
   {
    "duration": 15,
    "start_time": "2025-04-30T07:01:48.969Z"
   },
   {
    "duration": 10,
    "start_time": "2025-04-30T07:10:31.199Z"
   },
   {
    "duration": 8,
    "start_time": "2025-04-30T07:15:58.825Z"
   },
   {
    "duration": 10,
    "start_time": "2025-04-30T07:16:31.806Z"
   },
   {
    "duration": 1032,
    "start_time": "2025-04-30T07:17:11.278Z"
   },
   {
    "duration": 10,
    "start_time": "2025-04-30T07:17:39.992Z"
   },
   {
    "duration": 18,
    "start_time": "2025-04-30T07:21:07.039Z"
   },
   {
    "duration": 118,
    "start_time": "2025-04-30T07:23:38.163Z"
   },
   {
    "duration": 4,
    "start_time": "2025-04-30T07:23:56.548Z"
   },
   {
    "duration": 11,
    "start_time": "2025-04-30T07:23:57.961Z"
   },
   {
    "duration": 12,
    "start_time": "2025-04-30T07:24:16.937Z"
   },
   {
    "duration": 13,
    "start_time": "2025-04-30T07:27:00.391Z"
   },
   {
    "duration": 12,
    "start_time": "2025-04-30T07:27:37.773Z"
   },
   {
    "duration": 16,
    "start_time": "2025-04-30T07:34:53.406Z"
   },
   {
    "duration": 12,
    "start_time": "2025-04-30T07:39:52.108Z"
   },
   {
    "duration": 18,
    "start_time": "2025-04-30T07:41:07.593Z"
   },
   {
    "duration": 16,
    "start_time": "2025-04-30T07:41:13.881Z"
   },
   {
    "duration": 12,
    "start_time": "2025-04-30T07:41:42.196Z"
   },
   {
    "duration": 17,
    "start_time": "2025-04-30T07:41:56.196Z"
   },
   {
    "duration": 15,
    "start_time": "2025-04-30T07:42:04.369Z"
   },
   {
    "duration": 17,
    "start_time": "2025-04-30T07:45:47.902Z"
   },
   {
    "duration": 387,
    "start_time": "2025-04-30T07:47:21.795Z"
   },
   {
    "duration": 1170,
    "start_time": "2025-04-30T07:49:16.539Z"
   },
   {
    "duration": 47,
    "start_time": "2025-04-30T07:49:17.713Z"
   },
   {
    "duration": 13,
    "start_time": "2025-04-30T07:49:17.762Z"
   },
   {
    "duration": 15,
    "start_time": "2025-04-30T07:49:17.778Z"
   },
   {
    "duration": 9,
    "start_time": "2025-04-30T07:49:17.809Z"
   },
   {
    "duration": 12,
    "start_time": "2025-04-30T07:49:17.820Z"
   },
   {
    "duration": 18,
    "start_time": "2025-04-30T07:49:17.835Z"
   },
   {
    "duration": 25,
    "start_time": "2025-04-30T07:49:17.855Z"
   },
   {
    "duration": 27,
    "start_time": "2025-04-30T07:49:17.883Z"
   },
   {
    "duration": 10,
    "start_time": "2025-04-30T07:49:17.915Z"
   },
   {
    "duration": 6,
    "start_time": "2025-04-30T07:49:17.927Z"
   },
   {
    "duration": 7,
    "start_time": "2025-04-30T07:49:17.934Z"
   },
   {
    "duration": 9,
    "start_time": "2025-04-30T07:49:17.943Z"
   },
   {
    "duration": 10,
    "start_time": "2025-04-30T07:49:17.954Z"
   },
   {
    "duration": 44,
    "start_time": "2025-04-30T07:49:17.966Z"
   },
   {
    "duration": 243,
    "start_time": "2025-04-30T07:49:18.014Z"
   },
   {
    "duration": 0,
    "start_time": "2025-04-30T07:49:18.260Z"
   },
   {
    "duration": 0,
    "start_time": "2025-04-30T07:49:18.261Z"
   },
   {
    "duration": 0,
    "start_time": "2025-04-30T07:49:18.263Z"
   },
   {
    "duration": 0,
    "start_time": "2025-04-30T07:49:18.264Z"
   },
   {
    "duration": 0,
    "start_time": "2025-04-30T07:49:18.266Z"
   },
   {
    "duration": 0,
    "start_time": "2025-04-30T07:49:18.267Z"
   },
   {
    "duration": 0,
    "start_time": "2025-04-30T07:49:18.268Z"
   },
   {
    "duration": 0,
    "start_time": "2025-04-30T07:49:18.270Z"
   },
   {
    "duration": 0,
    "start_time": "2025-04-30T07:49:18.272Z"
   },
   {
    "duration": 0,
    "start_time": "2025-04-30T07:49:18.273Z"
   },
   {
    "duration": 0,
    "start_time": "2025-04-30T07:49:18.275Z"
   },
   {
    "duration": 0,
    "start_time": "2025-04-30T07:49:18.276Z"
   },
   {
    "duration": 14,
    "start_time": "2025-04-30T07:49:58.503Z"
   },
   {
    "duration": 9,
    "start_time": "2025-04-30T07:50:04.896Z"
   },
   {
    "duration": 15,
    "start_time": "2025-04-30T07:50:06.389Z"
   },
   {
    "duration": 10,
    "start_time": "2025-04-30T07:50:07.928Z"
   },
   {
    "duration": 11,
    "start_time": "2025-04-30T07:50:15.913Z"
   },
   {
    "duration": 14,
    "start_time": "2025-04-30T07:50:18.818Z"
   },
   {
    "duration": 11,
    "start_time": "2025-04-30T07:52:36.887Z"
   },
   {
    "duration": 119,
    "start_time": "2025-04-30T07:53:52.927Z"
   },
   {
    "duration": 12,
    "start_time": "2025-04-30T07:54:14.309Z"
   },
   {
    "duration": 16,
    "start_time": "2025-04-30T07:54:18.456Z"
   },
   {
    "duration": 17,
    "start_time": "2025-04-30T07:55:37.508Z"
   },
   {
    "duration": 15,
    "start_time": "2025-04-30T08:00:52.864Z"
   },
   {
    "duration": 358,
    "start_time": "2025-04-30T08:01:33.655Z"
   },
   {
    "duration": 12,
    "start_time": "2025-04-30T08:02:23.856Z"
   },
   {
    "duration": 3,
    "start_time": "2025-04-30T08:02:26.643Z"
   },
   {
    "duration": 14,
    "start_time": "2025-04-30T08:02:27.750Z"
   },
   {
    "duration": 18,
    "start_time": "2025-04-30T08:02:32.041Z"
   },
   {
    "duration": 19,
    "start_time": "2025-04-30T08:02:40.165Z"
   },
   {
    "duration": 250,
    "start_time": "2025-04-30T08:02:42.289Z"
   },
   {
    "duration": 114,
    "start_time": "2025-04-30T08:04:01.316Z"
   },
   {
    "duration": 17,
    "start_time": "2025-04-30T08:06:04.150Z"
   },
   {
    "duration": 113,
    "start_time": "2025-04-30T08:06:48.767Z"
   },
   {
    "duration": 109,
    "start_time": "2025-04-30T08:07:37.003Z"
   },
   {
    "duration": 183,
    "start_time": "2025-04-30T08:07:44.765Z"
   },
   {
    "duration": 80,
    "start_time": "2025-04-30T08:07:54.573Z"
   },
   {
    "duration": 131,
    "start_time": "2025-04-30T08:14:42.681Z"
   },
   {
    "duration": 210,
    "start_time": "2025-04-30T08:18:41.157Z"
   },
   {
    "duration": 141,
    "start_time": "2025-04-30T08:19:02.671Z"
   },
   {
    "duration": 143,
    "start_time": "2025-04-30T08:22:18.928Z"
   },
   {
    "duration": 171,
    "start_time": "2025-04-30T14:38:10.334Z"
   },
   {
    "duration": 2674,
    "start_time": "2025-04-30T14:38:45.856Z"
   },
   {
    "duration": 67,
    "start_time": "2025-04-30T14:38:48.533Z"
   },
   {
    "duration": 13,
    "start_time": "2025-04-30T14:38:48.602Z"
   },
   {
    "duration": 13,
    "start_time": "2025-04-30T14:38:48.617Z"
   },
   {
    "duration": 4,
    "start_time": "2025-04-30T14:38:48.631Z"
   },
   {
    "duration": 10,
    "start_time": "2025-04-30T14:38:48.636Z"
   },
   {
    "duration": 16,
    "start_time": "2025-04-30T14:38:48.647Z"
   },
   {
    "duration": 27,
    "start_time": "2025-04-30T14:38:48.686Z"
   },
   {
    "duration": 6,
    "start_time": "2025-04-30T14:38:48.715Z"
   },
   {
    "duration": 7,
    "start_time": "2025-04-30T14:38:48.726Z"
   },
   {
    "duration": 4,
    "start_time": "2025-04-30T14:38:48.735Z"
   },
   {
    "duration": 5,
    "start_time": "2025-04-30T14:38:48.741Z"
   },
   {
    "duration": 41,
    "start_time": "2025-04-30T14:38:48.748Z"
   },
   {
    "duration": 10,
    "start_time": "2025-04-30T14:38:48.790Z"
   },
   {
    "duration": 15,
    "start_time": "2025-04-30T14:38:48.801Z"
   },
   {
    "duration": 6,
    "start_time": "2025-04-30T14:38:48.818Z"
   },
   {
    "duration": 8,
    "start_time": "2025-04-30T14:38:48.826Z"
   },
   {
    "duration": 13,
    "start_time": "2025-04-30T14:38:48.835Z"
   },
   {
    "duration": 8,
    "start_time": "2025-04-30T14:38:48.887Z"
   },
   {
    "duration": 9,
    "start_time": "2025-04-30T14:38:48.896Z"
   },
   {
    "duration": 10,
    "start_time": "2025-04-30T14:38:48.907Z"
   },
   {
    "duration": 4,
    "start_time": "2025-04-30T14:38:48.919Z"
   },
   {
    "duration": 13,
    "start_time": "2025-04-30T14:38:48.924Z"
   },
   {
    "duration": 49,
    "start_time": "2025-04-30T14:38:48.938Z"
   },
   {
    "duration": 15,
    "start_time": "2025-04-30T14:38:48.989Z"
   },
   {
    "duration": 638,
    "start_time": "2025-04-30T14:38:49.006Z"
   },
   {
    "duration": 0,
    "start_time": "2025-04-30T14:38:49.646Z"
   },
   {
    "duration": 0,
    "start_time": "2025-04-30T14:38:49.648Z"
   },
   {
    "duration": 0,
    "start_time": "2025-04-30T14:38:49.649Z"
   },
   {
    "duration": 0,
    "start_time": "2025-04-30T14:38:49.650Z"
   },
   {
    "duration": 14,
    "start_time": "2025-04-30T14:39:03.634Z"
   },
   {
    "duration": 2631,
    "start_time": "2025-04-30T23:25:00.886Z"
   },
   {
    "duration": 67,
    "start_time": "2025-04-30T23:25:03.519Z"
   },
   {
    "duration": 12,
    "start_time": "2025-04-30T23:25:03.587Z"
   },
   {
    "duration": 13,
    "start_time": "2025-04-30T23:25:03.601Z"
   },
   {
    "duration": 3,
    "start_time": "2025-04-30T23:25:03.616Z"
   },
   {
    "duration": 10,
    "start_time": "2025-04-30T23:25:03.621Z"
   },
   {
    "duration": 16,
    "start_time": "2025-04-30T23:25:03.633Z"
   },
   {
    "duration": 23,
    "start_time": "2025-04-30T23:25:03.652Z"
   },
   {
    "duration": 37,
    "start_time": "2025-04-30T23:25:03.676Z"
   },
   {
    "duration": 8,
    "start_time": "2025-04-30T23:25:03.717Z"
   },
   {
    "duration": 5,
    "start_time": "2025-04-30T23:25:03.726Z"
   },
   {
    "duration": 6,
    "start_time": "2025-04-30T23:25:03.733Z"
   },
   {
    "duration": 6,
    "start_time": "2025-04-30T23:25:03.740Z"
   },
   {
    "duration": 9,
    "start_time": "2025-04-30T23:25:03.747Z"
   },
   {
    "duration": 55,
    "start_time": "2025-04-30T23:25:03.757Z"
   },
   {
    "duration": 6,
    "start_time": "2025-04-30T23:25:03.814Z"
   },
   {
    "duration": 7,
    "start_time": "2025-04-30T23:25:03.822Z"
   },
   {
    "duration": 13,
    "start_time": "2025-04-30T23:25:03.830Z"
   },
   {
    "duration": 8,
    "start_time": "2025-04-30T23:25:03.844Z"
   },
   {
    "duration": 8,
    "start_time": "2025-04-30T23:25:03.855Z"
   },
   {
    "duration": 9,
    "start_time": "2025-04-30T23:25:03.865Z"
   },
   {
    "duration": 4,
    "start_time": "2025-04-30T23:25:03.911Z"
   },
   {
    "duration": 12,
    "start_time": "2025-04-30T23:25:03.917Z"
   },
   {
    "duration": 15,
    "start_time": "2025-04-30T23:25:03.931Z"
   },
   {
    "duration": 14,
    "start_time": "2025-04-30T23:25:03.947Z"
   },
   {
    "duration": 14,
    "start_time": "2025-04-30T23:25:03.962Z"
   },
   {
    "duration": 143,
    "start_time": "2025-04-30T23:25:04.012Z"
   },
   {
    "duration": 136,
    "start_time": "2025-04-30T23:25:04.158Z"
   },
   {
    "duration": 130,
    "start_time": "2025-04-30T23:25:04.296Z"
   },
   {
    "duration": 5,
    "start_time": "2025-04-30T23:25:04.428Z"
   },
   {
    "duration": 12,
    "start_time": "2025-04-30T23:53:36.815Z"
   },
   {
    "duration": 981,
    "start_time": "2025-04-30T23:53:51.759Z"
   },
   {
    "duration": 41,
    "start_time": "2025-04-30T23:53:52.742Z"
   },
   {
    "duration": 11,
    "start_time": "2025-04-30T23:53:52.785Z"
   },
   {
    "duration": 24,
    "start_time": "2025-04-30T23:53:52.798Z"
   },
   {
    "duration": 5,
    "start_time": "2025-04-30T23:53:52.824Z"
   },
   {
    "duration": 9,
    "start_time": "2025-04-30T23:53:52.830Z"
   },
   {
    "duration": 16,
    "start_time": "2025-04-30T23:53:52.841Z"
   },
   {
    "duration": 53,
    "start_time": "2025-04-30T23:53:52.859Z"
   },
   {
    "duration": 7,
    "start_time": "2025-04-30T23:53:52.913Z"
   },
   {
    "duration": 7,
    "start_time": "2025-04-30T23:53:52.923Z"
   },
   {
    "duration": 4,
    "start_time": "2025-04-30T23:53:52.932Z"
   },
   {
    "duration": 5,
    "start_time": "2025-04-30T23:53:52.938Z"
   },
   {
    "duration": 5,
    "start_time": "2025-04-30T23:53:52.945Z"
   },
   {
    "duration": 8,
    "start_time": "2025-04-30T23:53:52.952Z"
   },
   {
    "duration": 61,
    "start_time": "2025-04-30T23:53:52.962Z"
   },
   {
    "duration": 6,
    "start_time": "2025-04-30T23:53:53.025Z"
   },
   {
    "duration": 7,
    "start_time": "2025-04-30T23:53:53.033Z"
   },
   {
    "duration": 13,
    "start_time": "2025-04-30T23:53:53.041Z"
   },
   {
    "duration": 7,
    "start_time": "2025-04-30T23:53:53.055Z"
   },
   {
    "duration": 9,
    "start_time": "2025-04-30T23:53:53.064Z"
   },
   {
    "duration": 44,
    "start_time": "2025-04-30T23:53:53.074Z"
   },
   {
    "duration": 4,
    "start_time": "2025-04-30T23:53:53.120Z"
   },
   {
    "duration": 13,
    "start_time": "2025-04-30T23:53:53.126Z"
   },
   {
    "duration": 14,
    "start_time": "2025-04-30T23:53:53.141Z"
   },
   {
    "duration": 13,
    "start_time": "2025-04-30T23:53:53.156Z"
   },
   {
    "duration": 595,
    "start_time": "2025-04-30T23:53:53.171Z"
   },
   {
    "duration": 0,
    "start_time": "2025-04-30T23:53:53.768Z"
   },
   {
    "duration": 0,
    "start_time": "2025-04-30T23:53:53.770Z"
   },
   {
    "duration": 0,
    "start_time": "2025-04-30T23:53:53.771Z"
   },
   {
    "duration": 0,
    "start_time": "2025-04-30T23:53:53.773Z"
   },
   {
    "duration": 980,
    "start_time": "2025-04-30T23:55:04.408Z"
   },
   {
    "duration": 45,
    "start_time": "2025-04-30T23:55:05.390Z"
   },
   {
    "duration": 12,
    "start_time": "2025-04-30T23:55:05.436Z"
   },
   {
    "duration": 13,
    "start_time": "2025-04-30T23:55:05.450Z"
   },
   {
    "duration": 4,
    "start_time": "2025-04-30T23:55:05.464Z"
   },
   {
    "duration": 11,
    "start_time": "2025-04-30T23:55:05.470Z"
   },
   {
    "duration": 42,
    "start_time": "2025-04-30T23:55:05.483Z"
   },
   {
    "duration": 23,
    "start_time": "2025-04-30T23:55:05.527Z"
   },
   {
    "duration": 6,
    "start_time": "2025-04-30T23:55:05.552Z"
   },
   {
    "duration": 8,
    "start_time": "2025-04-30T23:55:05.562Z"
   },
   {
    "duration": 5,
    "start_time": "2025-04-30T23:55:05.571Z"
   },
   {
    "duration": 5,
    "start_time": "2025-04-30T23:55:05.612Z"
   },
   {
    "duration": 5,
    "start_time": "2025-04-30T23:55:05.619Z"
   },
   {
    "duration": 8,
    "start_time": "2025-04-30T23:55:05.626Z"
   },
   {
    "duration": 17,
    "start_time": "2025-04-30T23:55:05.635Z"
   },
   {
    "duration": 7,
    "start_time": "2025-04-30T23:55:05.653Z"
   },
   {
    "duration": 8,
    "start_time": "2025-04-30T23:55:05.662Z"
   },
   {
    "duration": 51,
    "start_time": "2025-04-30T23:55:05.672Z"
   },
   {
    "duration": 7,
    "start_time": "2025-04-30T23:55:05.725Z"
   },
   {
    "duration": 9,
    "start_time": "2025-04-30T23:55:05.734Z"
   },
   {
    "duration": 12,
    "start_time": "2025-04-30T23:55:05.745Z"
   },
   {
    "duration": 4,
    "start_time": "2025-04-30T23:55:05.758Z"
   },
   {
    "duration": 50,
    "start_time": "2025-04-30T23:55:05.763Z"
   },
   {
    "duration": 14,
    "start_time": "2025-04-30T23:55:05.815Z"
   },
   {
    "duration": 13,
    "start_time": "2025-04-30T23:55:05.831Z"
   },
   {
    "duration": 547,
    "start_time": "2025-04-30T23:55:05.847Z"
   },
   {
    "duration": 0,
    "start_time": "2025-04-30T23:55:06.396Z"
   },
   {
    "duration": 0,
    "start_time": "2025-04-30T23:55:06.397Z"
   },
   {
    "duration": 0,
    "start_time": "2025-04-30T23:55:06.399Z"
   },
   {
    "duration": 0,
    "start_time": "2025-04-30T23:55:06.412Z"
   },
   {
    "duration": 1040,
    "start_time": "2025-04-30T23:58:19.124Z"
   },
   {
    "duration": 41,
    "start_time": "2025-04-30T23:58:20.166Z"
   },
   {
    "duration": 13,
    "start_time": "2025-04-30T23:58:20.208Z"
   },
   {
    "duration": 13,
    "start_time": "2025-04-30T23:58:20.223Z"
   },
   {
    "duration": 4,
    "start_time": "2025-04-30T23:58:20.238Z"
   },
   {
    "duration": 10,
    "start_time": "2025-04-30T23:58:20.243Z"
   },
   {
    "duration": 15,
    "start_time": "2025-04-30T23:58:20.255Z"
   },
   {
    "duration": 59,
    "start_time": "2025-04-30T23:58:20.271Z"
   },
   {
    "duration": 7,
    "start_time": "2025-04-30T23:58:20.332Z"
   },
   {
    "duration": 7,
    "start_time": "2025-04-30T23:58:20.342Z"
   },
   {
    "duration": 5,
    "start_time": "2025-04-30T23:58:20.350Z"
   },
   {
    "duration": 6,
    "start_time": "2025-04-30T23:58:20.356Z"
   },
   {
    "duration": 5,
    "start_time": "2025-04-30T23:58:20.364Z"
   },
   {
    "duration": 41,
    "start_time": "2025-04-30T23:58:20.371Z"
   },
   {
    "duration": 17,
    "start_time": "2025-04-30T23:58:20.414Z"
   },
   {
    "duration": 6,
    "start_time": "2025-04-30T23:58:20.434Z"
   },
   {
    "duration": 7,
    "start_time": "2025-04-30T23:58:20.442Z"
   },
   {
    "duration": 13,
    "start_time": "2025-04-30T23:58:20.450Z"
   },
   {
    "duration": 7,
    "start_time": "2025-04-30T23:58:20.464Z"
   },
   {
    "duration": 45,
    "start_time": "2025-04-30T23:58:20.473Z"
   },
   {
    "duration": 13,
    "start_time": "2025-04-30T23:58:20.519Z"
   },
   {
    "duration": 4,
    "start_time": "2025-04-30T23:58:20.533Z"
   },
   {
    "duration": 14,
    "start_time": "2025-04-30T23:58:20.539Z"
   },
   {
    "duration": 13,
    "start_time": "2025-04-30T23:58:20.555Z"
   },
   {
    "duration": 45,
    "start_time": "2025-04-30T23:58:20.569Z"
   },
   {
    "duration": 540,
    "start_time": "2025-04-30T23:58:20.616Z"
   },
   {
    "duration": 0,
    "start_time": "2025-04-30T23:58:21.158Z"
   },
   {
    "duration": 0,
    "start_time": "2025-04-30T23:58:21.159Z"
   },
   {
    "duration": 0,
    "start_time": "2025-04-30T23:58:21.160Z"
   },
   {
    "duration": 0,
    "start_time": "2025-04-30T23:58:21.161Z"
   },
   {
    "duration": 967,
    "start_time": "2025-05-01T00:02:15.694Z"
   },
   {
    "duration": 40,
    "start_time": "2025-05-01T00:02:16.664Z"
   },
   {
    "duration": 16,
    "start_time": "2025-05-01T00:02:16.705Z"
   },
   {
    "duration": 13,
    "start_time": "2025-05-01T00:02:16.723Z"
   },
   {
    "duration": 4,
    "start_time": "2025-05-01T00:02:16.738Z"
   },
   {
    "duration": 9,
    "start_time": "2025-05-01T00:02:16.744Z"
   },
   {
    "duration": 16,
    "start_time": "2025-05-01T00:02:16.755Z"
   },
   {
    "duration": 55,
    "start_time": "2025-05-01T00:02:16.772Z"
   },
   {
    "duration": 6,
    "start_time": "2025-05-01T00:02:16.828Z"
   },
   {
    "duration": 8,
    "start_time": "2025-05-01T00:02:16.837Z"
   },
   {
    "duration": 5,
    "start_time": "2025-05-01T00:02:16.847Z"
   },
   {
    "duration": 5,
    "start_time": "2025-05-01T00:02:16.853Z"
   },
   {
    "duration": 4,
    "start_time": "2025-05-01T00:02:16.860Z"
   },
   {
    "duration": 46,
    "start_time": "2025-05-01T00:02:16.866Z"
   },
   {
    "duration": 17,
    "start_time": "2025-05-01T00:02:16.913Z"
   },
   {
    "duration": 6,
    "start_time": "2025-05-01T00:02:16.932Z"
   },
   {
    "duration": 7,
    "start_time": "2025-05-01T00:02:16.940Z"
   },
   {
    "duration": 12,
    "start_time": "2025-05-01T00:02:16.949Z"
   },
   {
    "duration": 7,
    "start_time": "2025-05-01T00:02:16.963Z"
   },
   {
    "duration": 42,
    "start_time": "2025-05-01T00:02:16.972Z"
   },
   {
    "duration": 12,
    "start_time": "2025-05-01T00:02:17.016Z"
   },
   {
    "duration": 2,
    "start_time": "2025-05-01T00:02:17.030Z"
   },
   {
    "duration": 15,
    "start_time": "2025-05-01T00:02:17.034Z"
   },
   {
    "duration": 14,
    "start_time": "2025-05-01T00:02:17.050Z"
   },
   {
    "duration": 48,
    "start_time": "2025-05-01T00:02:17.065Z"
   },
   {
    "duration": 14,
    "start_time": "2025-05-01T00:02:17.114Z"
   },
   {
    "duration": 150,
    "start_time": "2025-05-01T00:02:17.129Z"
   },
   {
    "duration": 131,
    "start_time": "2025-05-01T00:02:17.282Z"
   },
   {
    "duration": 126,
    "start_time": "2025-05-01T00:02:17.415Z"
   },
   {
    "duration": 5,
    "start_time": "2025-05-01T00:02:17.543Z"
   },
   {
    "duration": 4,
    "start_time": "2025-05-01T00:05:57.126Z"
   },
   {
    "duration": 13,
    "start_time": "2025-05-01T00:06:42.710Z"
   },
   {
    "duration": 13,
    "start_time": "2025-05-01T00:06:54.485Z"
   },
   {
    "duration": 13,
    "start_time": "2025-05-01T00:07:26.938Z"
   },
   {
    "duration": 17,
    "start_time": "2025-05-01T00:25:01.085Z"
   },
   {
    "duration": 22,
    "start_time": "2025-05-01T00:25:55.121Z"
   },
   {
    "duration": 973,
    "start_time": "2025-05-01T00:26:43.876Z"
   },
   {
    "duration": 42,
    "start_time": "2025-05-01T00:26:44.851Z"
   },
   {
    "duration": 11,
    "start_time": "2025-05-01T00:26:44.894Z"
   },
   {
    "duration": 12,
    "start_time": "2025-05-01T00:26:44.913Z"
   },
   {
    "duration": 4,
    "start_time": "2025-05-01T00:26:44.927Z"
   },
   {
    "duration": 11,
    "start_time": "2025-05-01T00:26:44.933Z"
   },
   {
    "duration": 16,
    "start_time": "2025-05-01T00:26:44.945Z"
   },
   {
    "duration": 23,
    "start_time": "2025-05-01T00:26:45.169Z"
   },
   {
    "duration": 6,
    "start_time": "2025-05-01T00:26:45.194Z"
   },
   {
    "duration": 10,
    "start_time": "2025-05-01T00:26:45.202Z"
   },
   {
    "duration": 5,
    "start_time": "2025-05-01T00:26:45.214Z"
   },
   {
    "duration": 5,
    "start_time": "2025-05-01T00:26:45.221Z"
   },
   {
    "duration": 5,
    "start_time": "2025-05-01T00:26:45.228Z"
   },
   {
    "duration": 8,
    "start_time": "2025-05-01T00:26:45.235Z"
   },
   {
    "duration": 16,
    "start_time": "2025-05-01T00:26:45.245Z"
   },
   {
    "duration": 7,
    "start_time": "2025-05-01T00:26:45.263Z"
   },
   {
    "duration": 47,
    "start_time": "2025-05-01T00:26:45.272Z"
   },
   {
    "duration": 13,
    "start_time": "2025-05-01T00:26:45.320Z"
   },
   {
    "duration": 8,
    "start_time": "2025-05-01T00:26:45.334Z"
   },
   {
    "duration": 10,
    "start_time": "2025-05-01T00:26:45.343Z"
   },
   {
    "duration": 13,
    "start_time": "2025-05-01T00:26:45.356Z"
   },
   {
    "duration": 51,
    "start_time": "2025-05-01T00:26:45.370Z"
   },
   {
    "duration": 12,
    "start_time": "2025-05-01T00:26:45.422Z"
   },
   {
    "duration": 14,
    "start_time": "2025-05-01T00:26:45.436Z"
   },
   {
    "duration": 13,
    "start_time": "2025-05-01T00:26:45.451Z"
   },
   {
    "duration": 161,
    "start_time": "2025-05-01T00:26:45.465Z"
   },
   {
    "duration": 128,
    "start_time": "2025-05-01T00:26:45.628Z"
   },
   {
    "duration": 133,
    "start_time": "2025-05-01T00:26:45.758Z"
   },
   {
    "duration": 3,
    "start_time": "2025-05-01T00:26:45.894Z"
   },
   {
    "duration": 0,
    "start_time": "2025-05-01T00:26:45.899Z"
   },
   {
    "duration": 15,
    "start_time": "2025-05-01T00:28:42.445Z"
   },
   {
    "duration": 15,
    "start_time": "2025-05-01T00:29:38.317Z"
   },
   {
    "duration": 14,
    "start_time": "2025-05-01T00:31:07.583Z"
   },
   {
    "duration": 1038,
    "start_time": "2025-05-01T00:31:16.127Z"
   },
   {
    "duration": 39,
    "start_time": "2025-05-01T00:31:17.167Z"
   },
   {
    "duration": 15,
    "start_time": "2025-05-01T00:31:17.207Z"
   },
   {
    "duration": 14,
    "start_time": "2025-05-01T00:31:17.224Z"
   },
   {
    "duration": 4,
    "start_time": "2025-05-01T00:31:17.240Z"
   },
   {
    "duration": 10,
    "start_time": "2025-05-01T00:31:17.246Z"
   },
   {
    "duration": 16,
    "start_time": "2025-05-01T00:31:17.257Z"
   },
   {
    "duration": 58,
    "start_time": "2025-05-01T00:31:17.275Z"
   },
   {
    "duration": 6,
    "start_time": "2025-05-01T00:31:17.335Z"
   },
   {
    "duration": 7,
    "start_time": "2025-05-01T00:31:17.345Z"
   },
   {
    "duration": 3,
    "start_time": "2025-05-01T00:31:17.354Z"
   },
   {
    "duration": 6,
    "start_time": "2025-05-01T00:31:17.359Z"
   },
   {
    "duration": 5,
    "start_time": "2025-05-01T00:31:17.367Z"
   },
   {
    "duration": 9,
    "start_time": "2025-05-01T00:31:17.412Z"
   },
   {
    "duration": 16,
    "start_time": "2025-05-01T00:31:17.422Z"
   },
   {
    "duration": 6,
    "start_time": "2025-05-01T00:31:17.440Z"
   },
   {
    "duration": 8,
    "start_time": "2025-05-01T00:31:17.448Z"
   },
   {
    "duration": 12,
    "start_time": "2025-05-01T00:31:17.457Z"
   },
   {
    "duration": 7,
    "start_time": "2025-05-01T00:31:17.472Z"
   },
   {
    "duration": 10,
    "start_time": "2025-05-01T00:31:17.512Z"
   },
   {
    "duration": 15,
    "start_time": "2025-05-01T00:31:17.524Z"
   },
   {
    "duration": 16,
    "start_time": "2025-05-01T00:31:17.541Z"
   },
   {
    "duration": 13,
    "start_time": "2025-05-01T00:31:17.559Z"
   },
   {
    "duration": 41,
    "start_time": "2025-05-01T00:31:17.574Z"
   },
   {
    "duration": 13,
    "start_time": "2025-05-01T00:31:17.617Z"
   },
   {
    "duration": 151,
    "start_time": "2025-05-01T00:31:17.631Z"
   },
   {
    "duration": 129,
    "start_time": "2025-05-01T00:31:17.784Z"
   },
   {
    "duration": 138,
    "start_time": "2025-05-01T00:31:17.917Z"
   },
   {
    "duration": 4,
    "start_time": "2025-05-01T00:31:18.056Z"
   },
   {
    "duration": 0,
    "start_time": "2025-05-01T00:31:18.061Z"
   },
   {
    "duration": 15,
    "start_time": "2025-05-01T00:32:00.379Z"
   },
   {
    "duration": 5,
    "start_time": "2025-05-01T01:15:28.642Z"
   },
   {
    "duration": 303,
    "start_time": "2025-05-01T01:22:38.399Z"
   },
   {
    "duration": 19,
    "start_time": "2025-05-01T01:24:29.150Z"
   },
   {
    "duration": 4,
    "start_time": "2025-05-01T01:24:39.106Z"
   },
   {
    "duration": 5,
    "start_time": "2025-05-01T01:24:45.390Z"
   },
   {
    "duration": 4,
    "start_time": "2025-05-01T01:25:43.293Z"
   },
   {
    "duration": 4,
    "start_time": "2025-05-01T01:25:57.674Z"
   },
   {
    "duration": 4,
    "start_time": "2025-05-01T01:33:36.403Z"
   },
   {
    "duration": 5,
    "start_time": "2025-05-01T01:34:27.938Z"
   },
   {
    "duration": 5,
    "start_time": "2025-05-01T01:34:50.539Z"
   },
   {
    "duration": 17,
    "start_time": "2025-05-01T01:35:05.026Z"
   },
   {
    "duration": 6,
    "start_time": "2025-05-01T01:35:24.653Z"
   },
   {
    "duration": 5,
    "start_time": "2025-05-01T01:35:42.546Z"
   },
   {
    "duration": 13,
    "start_time": "2025-05-01T01:42:24.997Z"
   },
   {
    "duration": 4,
    "start_time": "2025-05-01T01:42:50.471Z"
   },
   {
    "duration": 4,
    "start_time": "2025-05-01T01:48:39.758Z"
   },
   {
    "duration": 5,
    "start_time": "2025-05-01T02:03:39.448Z"
   },
   {
    "duration": 4,
    "start_time": "2025-05-01T02:05:14.069Z"
   },
   {
    "duration": 4,
    "start_time": "2025-05-01T02:05:31.821Z"
   },
   {
    "duration": 4,
    "start_time": "2025-05-01T02:05:50.604Z"
   },
   {
    "duration": 5,
    "start_time": "2025-05-01T02:05:57.979Z"
   },
   {
    "duration": 5,
    "start_time": "2025-05-01T02:09:50.796Z"
   },
   {
    "duration": 6,
    "start_time": "2025-05-01T02:11:42.965Z"
   },
   {
    "duration": 2,
    "start_time": "2025-05-01T02:16:13.499Z"
   },
   {
    "duration": 14,
    "start_time": "2025-05-01T02:16:23.435Z"
   },
   {
    "duration": 121,
    "start_time": "2025-05-01T02:16:26.219Z"
   },
   {
    "duration": 183,
    "start_time": "2025-05-01T02:16:35.645Z"
   },
   {
    "duration": 5,
    "start_time": "2025-05-01T02:19:11.799Z"
   },
   {
    "duration": 6,
    "start_time": "2025-05-01T02:19:15.665Z"
   },
   {
    "duration": 5,
    "start_time": "2025-05-01T02:19:35.077Z"
   },
   {
    "duration": 4,
    "start_time": "2025-05-01T02:19:51.157Z"
   },
   {
    "duration": 12,
    "start_time": "2025-05-01T02:40:09.117Z"
   },
   {
    "duration": 11,
    "start_time": "2025-05-01T02:41:17.614Z"
   },
   {
    "duration": 13,
    "start_time": "2025-05-01T02:42:35.029Z"
   },
   {
    "duration": 4,
    "start_time": "2025-05-01T02:43:06.957Z"
   },
   {
    "duration": 4,
    "start_time": "2025-05-01T02:43:13.407Z"
   },
   {
    "duration": 4,
    "start_time": "2025-05-01T02:44:00.677Z"
   },
   {
    "duration": 4,
    "start_time": "2025-05-01T02:44:14.760Z"
   },
   {
    "duration": 21,
    "start_time": "2025-05-01T02:44:57.202Z"
   },
   {
    "duration": 4,
    "start_time": "2025-05-01T02:45:21.241Z"
   },
   {
    "duration": 11,
    "start_time": "2025-05-01T02:48:27.132Z"
   },
   {
    "duration": 3,
    "start_time": "2025-05-01T02:51:48.097Z"
   },
   {
    "duration": 4,
    "start_time": "2025-05-01T02:55:51.795Z"
   },
   {
    "duration": 4,
    "start_time": "2025-05-01T02:56:09.017Z"
   },
   {
    "duration": 11,
    "start_time": "2025-05-01T02:56:12.310Z"
   },
   {
    "duration": 4,
    "start_time": "2025-05-01T02:56:17.594Z"
   },
   {
    "duration": 9,
    "start_time": "2025-05-01T03:08:15.523Z"
   },
   {
    "duration": 13,
    "start_time": "2025-05-01T03:08:45.381Z"
   },
   {
    "duration": 21,
    "start_time": "2025-05-01T03:10:43.474Z"
   },
   {
    "duration": 4,
    "start_time": "2025-05-01T03:15:09.148Z"
   },
   {
    "duration": 13,
    "start_time": "2025-05-01T03:26:58.794Z"
   },
   {
    "duration": 12,
    "start_time": "2025-05-01T03:27:26.736Z"
   },
   {
    "duration": 12,
    "start_time": "2025-05-01T03:27:42.897Z"
   },
   {
    "duration": 5,
    "start_time": "2025-05-01T03:29:12.302Z"
   },
   {
    "duration": 14,
    "start_time": "2025-05-01T03:33:23.557Z"
   },
   {
    "duration": 11,
    "start_time": "2025-05-01T03:34:13.785Z"
   },
   {
    "duration": 19,
    "start_time": "2025-05-01T03:37:03.786Z"
   },
   {
    "duration": 19,
    "start_time": "2025-05-01T03:37:21.997Z"
   },
   {
    "duration": 19,
    "start_time": "2025-05-01T03:38:15.936Z"
   },
   {
    "duration": 19,
    "start_time": "2025-05-01T03:40:09.778Z"
   },
   {
    "duration": 19,
    "start_time": "2025-05-01T03:41:39.569Z"
   },
   {
    "duration": 12,
    "start_time": "2025-05-01T03:52:01.972Z"
   }
  ],
  "kernelspec": {
   "display_name": "Python 3 (ipykernel)",
   "language": "python",
   "name": "python3"
  },
  "language_info": {
   "codemirror_mode": {
    "name": "ipython",
    "version": 3
   },
   "file_extension": ".py",
   "mimetype": "text/x-python",
   "name": "python",
   "nbconvert_exporter": "python",
   "pygments_lexer": "ipython3",
   "version": "3.9.19"
  },
  "toc": {
   "base_numbering": 1,
   "nav_menu": {},
   "number_sections": true,
   "sideBar": true,
   "skip_h1_title": true,
   "title_cell": "Table of Contents",
   "title_sidebar": "Contents",
   "toc_cell": false,
   "toc_position": {
    "height": "calc(100% - 180px)",
    "left": "10px",
    "top": "150px",
    "width": "347.734px"
   },
   "toc_section_display": true,
   "toc_window_display": true
  }
 },
 "nbformat": 4,
 "nbformat_minor": 2
}
